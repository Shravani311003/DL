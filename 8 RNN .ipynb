{
 "cells": [
  {
   "cell_type": "code",
   "execution_count": 86,
   "id": "06115cda-02d9-4495-ba05-b3c6cce80c67",
   "metadata": {},
   "outputs": [],
   "source": [
    "import numpy as np"
   ]
  },
  {
   "cell_type": "code",
   "execution_count": 87,
   "id": "7158e1de-ffbb-4356-8c67-06ed6901668e",
   "metadata": {},
   "outputs": [],
   "source": [
    "def sigmoid(x):\n",
    "    return 1 / (1+np.exp(-x))"
   ]
  },
  {
   "cell_type": "code",
   "execution_count": 88,
   "id": "3f07d457-61b0-4c1e-afab-080c62afba05",
   "metadata": {},
   "outputs": [],
   "source": [
    "def sigmoid_derivative(x):\n",
    "    return x *(1-x)\n",
    "    "
   ]
  },
  {
   "cell_type": "code",
   "execution_count": 89,
   "id": "992c677f-d37b-4ca0-924f-14e91d47e99b",
   "metadata": {},
   "outputs": [],
   "source": [
    "sequence = np.array([0.5,1.0,1.5,2.0,2.5])\n",
    "input_size = 1\n",
    "hidden_size = 5\n",
    "output_size = 1\n",
    "learning_rate = 0.01"
   ]
  },
  {
   "cell_type": "code",
   "execution_count": 90,
   "id": "902008d7-2da2-4fde-99e0-0f0fd3bc2de8",
   "metadata": {},
   "outputs": [],
   "source": [
    "Wxh = np.random.randn(hidden_size , input_size)\n",
    "Whh = np.random.randn(hidden_size , hidden_size)\n",
    "Why = np.random.randn(output_size , hidden_size)\n",
    "bh , by = np.zeros((hidden_size,1)),np.zeros((output_size,1))"
   ]
  },
  {
   "cell_type": "code",
   "execution_count": 91,
   "id": "51e831cc-e472-4eb6-9cb2-31c1a02cd95e",
   "metadata": {},
   "outputs": [],
   "source": [
    "#RNN Step Function\n",
    "def rnn_step(X , h_prev):\n",
    "    h = sigmoid(np.dot(Wxh,X) + np.dot(Whh,h_prev) + bh)\n",
    "    return h , np.dot(Why, h) + by"
   ]
  },
  {
   "cell_type": "code",
   "execution_count": 92,
   "id": "6f7b4283-d532-45a1-9e7e-0bca0e671d54",
   "metadata": {},
   "outputs": [],
   "source": [
    "# Training function\n",
    "def train(sequence, epochs):\n",
    "    for epoch in range(epochs):\n",
    "        h_prev = np.zeros((hidden_size, 1))\n",
    "        total_loss = 0\n",
    "\n",
    "        for t in range(len(sequence) - 1):\n",
    "            X = np.array([[sequence[t]]])\n",
    "            target = np.array([[sequence[t + 1]]])\n",
    "            \n",
    "            h, y = rnn_step(X, h_prev)  # Forward pass\n",
    "            total_loss += (y - target) ** 2 / 2  # Compute loss\n",
    "            \n",
    "            # Backpropagation\n",
    "            dL_dy = y - target\n",
    "            dWhy = np.dot(dL_dy, h.T)\n",
    "            dL_dh = np.dot(Why.T, dL_dy) * sigmoid_derivative(h)\n",
    "            dWxh, dWhh = np.dot(dL_dh, X.T), np.dot(dL_dh, h_prev.T)\n",
    "\n",
    "            # Update weights and biases\n",
    "            params = [Why, Wxh, Whh, by, bh]\n",
    "            dparams = [dWhy, dWxh, dWhh, dL_dy, dL_dh]\n",
    "            \n",
    "            for i in range(len(params)):\n",
    "                params[i] -= learning_rate * dparams[i]\n",
    "\n",
    "            \n",
    "            h_prev = h  # Update hidden state\n",
    "        \n",
    "        if epoch % 100 == 0:\n",
    "            print(f\"Epoch {epoch}, Loss: {total_loss[0][0]}\")"
   ]
  },
  {
   "cell_type": "code",
   "execution_count": 93,
   "id": "85a226ed-10f4-4739-81a7-47dc5974340f",
   "metadata": {},
   "outputs": [
    {
     "name": "stdout",
     "output_type": "stream",
     "text": [
      "Epoch 0, Loss: 2.7453525269601267\n",
      "Epoch 100, Loss: 0.3025479301997994\n",
      "Epoch 200, Loss: 0.16731994266380212\n",
      "Epoch 300, Loss: 0.10048729571135334\n",
      "Epoch 400, Loss: 0.06547830107140565\n",
      "Epoch 500, Loss: 0.04578352827355808\n",
      "Epoch 600, Loss: 0.03366487905688825\n",
      "Epoch 700, Loss: 0.025513538484420357\n",
      "Epoch 800, Loss: 0.01964536800301701\n",
      "Epoch 900, Loss: 0.015240785007063523\n"
     ]
    }
   ],
   "source": [
    "train(sequence , epochs=1000)"
   ]
  },
  {
   "cell_type": "code",
   "execution_count": 94,
   "id": "8ec2b2d6-0fd5-4fe6-80bd-3fd82d6129b2",
   "metadata": {},
   "outputs": [
    {
     "name": "stdout",
     "output_type": "stream",
     "text": [
      "\n",
      "Predictions after training:\n",
      "Input: 0.5 , Predicted Output: 0.9869405777902371, Target Output: 1.0\n",
      "Input: 1.0 , Predicted Output: 1.599237955632509, Target Output: 1.5\n",
      "Input: 1.5 , Predicted Output: 2.0269701431231484, Target Output: 2.0\n",
      "Input: 2.0 , Predicted Output: 2.389833631567046, Target Output: 2.5\n"
     ]
    }
   ],
   "source": [
    "h_prev = np.zeros((hidden_size, 1))\n",
    "print(\"\\nPredictions after training:\")\n",
    "for t in range(len(sequence) - 1):\n",
    "    X =np.array([[sequence[t]]])\n",
    "    h_prev , y = rnn_step(X , h_prev)\n",
    "    print(f'Input: {sequence[t]} , Predicted Output: {y[0][0]}, Target Output: {sequence[t+1]}')"
   ]
  },
  {
   "cell_type": "code",
   "execution_count": null,
   "id": "3f581cc7-404e-45e6-954a-d7353640ca83",
   "metadata": {},
   "outputs": [],
   "source": []
  }
 ],
 "metadata": {
  "kernelspec": {
   "display_name": "Python 3 (ipykernel)",
   "language": "python",
   "name": "python3"
  },
  "language_info": {
   "codemirror_mode": {
    "name": "ipython",
    "version": 3
   },
   "file_extension": ".py",
   "mimetype": "text/x-python",
   "name": "python",
   "nbconvert_exporter": "python",
   "pygments_lexer": "ipython3",
   "version": "3.11.4"
  }
 },
 "nbformat": 4,
 "nbformat_minor": 5
}
