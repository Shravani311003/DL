{
 "cells": [
  {
   "cell_type": "code",
   "execution_count": 5,
   "metadata": {},
   "outputs": [
    {
     "name": "stdout",
     "output_type": "stream",
     "text": [
      "Requirement already satisfied: torch in c:\\users\\shravani\\appdata\\local\\programs\\python\\python311\\lib\\site-packages (2.5.1)\n",
      "Requirement already satisfied: filelock in c:\\users\\shravani\\appdata\\local\\programs\\python\\python311\\lib\\site-packages (from torch) (3.12.3)\n",
      "Requirement already satisfied: typing-extensions>=4.8.0 in c:\\users\\shravani\\appdata\\local\\programs\\python\\python311\\lib\\site-packages (from torch) (4.12.2)\n",
      "Requirement already satisfied: networkx in c:\\users\\shravani\\appdata\\local\\programs\\python\\python311\\lib\\site-packages (from torch) (3.4.2)\n",
      "Requirement already satisfied: jinja2 in c:\\users\\shravani\\appdata\\local\\programs\\python\\python311\\lib\\site-packages (from torch) (3.1.2)\n",
      "Requirement already satisfied: fsspec in c:\\users\\shravani\\appdata\\local\\programs\\python\\python311\\lib\\site-packages (from torch) (2024.10.0)\n",
      "Requirement already satisfied: sympy==1.13.1 in c:\\users\\shravani\\appdata\\local\\programs\\python\\python311\\lib\\site-packages (from torch) (1.13.1)\n",
      "Requirement already satisfied: mpmath<1.4,>=1.1.0 in c:\\users\\shravani\\appdata\\local\\programs\\python\\python311\\lib\\site-packages (from sympy==1.13.1->torch) (1.3.0)\n",
      "Requirement already satisfied: MarkupSafe>=2.0 in c:\\users\\shravani\\appdata\\local\\programs\\python\\python311\\lib\\site-packages (from jinja2->torch) (2.1.3)\n"
     ]
    },
    {
     "name": "stderr",
     "output_type": "stream",
     "text": [
      "\n",
      "[notice] A new release of pip is available: 24.2 -> 24.3.1\n",
      "[notice] To update, run: python.exe -m pip install --upgrade pip\n"
     ]
    }
   ],
   "source": [
    "!pip install torch"
   ]
  },
  {
   "cell_type": "code",
   "execution_count": 1,
   "metadata": {
    "id": "t1JUugfP1uXp"
   },
   "outputs": [
    {
     "name": "stdout",
     "output_type": "stream",
     "text": [
      "Step 0: W=[2.26351345], b=[-0.00099999], Loss=0.9202561867041988\n",
      "Step 500: W=[1.85292886], b=[-0.37528785], Loss=0.2449047056208029\n",
      "Step 1000: W=[1.6024918], b=[-0.47290125], Loss=0.14482354752950188\n",
      "Step 1500: W=[1.40825784], b=[-0.41144075], Loss=0.10893324477111772\n",
      "Step 2000: W=[1.20689442], b=[-0.31054309], Loss=0.0757298791491718\n",
      "Step 2500: W=[0.99755543], b=[-0.20361009], Loss=0.04748384668125934\n",
      "Step 3000: W=[0.7938585], b=[-0.09997985], Loss=0.02631305458382227\n",
      "Step 3500: W=[0.6094223], b=[-0.00651873], Loss=0.012503768418782308\n",
      "Step 4000: W=[0.45573476], b=[0.07112778], Loss=0.0048786789135685646\n",
      "Step 4500: W=[0.34042378], b=[0.12927401], Loss=0.0014715221925450514\n"
     ]
    }
   ],
   "source": [
    "# Tensor Flow:\n",
    "\n",
    "import tensorflow as tf\n",
    "import numpy as np\n",
    "\n",
    "x=np.random.rand(100).astype(np.float32)\n",
    "\n",
    "y=0.2*x+0.2\n",
    "\n",
    "#we\n",
    "W=tf.Variable(np.random.normal([1]))\n",
    "b=tf.Variable(np.zeros([1]))\n",
    "\n",
    "#mean square error\n",
    "def mse_loss():\n",
    "    y_pred = W*x +b\n",
    "    loss=tf.reduce_mean(tf.square(y_pred-y))\n",
    "    return loss\n",
    "\n",
    "optimizer= tf.keras.optimizers.Adam()\n",
    "for step in range(5000):\n",
    "    with tf.GradientTape() as tape:\n",
    "        current_loss = mse_loss()\n",
    "\n",
    "    # Compute gradients\n",
    "    gradients = tape.gradient(current_loss, [W, b])\n",
    "\n",
    "    # Update weights\n",
    "    optimizer.apply_gradients(zip(gradients, [W, b]))\n",
    "\n",
    "    if step % 500 == 0:\n",
    "        # Print current values of W, b, and loss\n",
    "        print(f\"Step {step}: W={W.numpy()}, b={b.numpy()}, Loss={current_loss.numpy()}\")"
   ]
  },
  {
   "cell_type": "code",
   "execution_count": 6,
   "metadata": {
    "id": "v486p5cV2pJt"
   },
   "outputs": [],
   "source": [
    "####################Pytorch\n",
    "\n",
    "import torch\n",
    "data1=[\n",
    "    [1,2],\n",
    "    [3,4]\n",
    "]\n",
    "\n",
    "data2=[\n",
    "    [2,2],\n",
    "    [2,2]\n",
    "]\n",
    "\n",
    "x_data1= torch.tensor(data1)\n",
    "x_data2= torch.tensor(data2)"
   ]
  },
  {
   "cell_type": "code",
   "execution_count": 7,
   "metadata": {
    "id": "t_Y9PAzg8FJp"
   },
   "outputs": [],
   "source": [
    "addition=x_data1+x_data2"
   ]
  },
  {
   "cell_type": "code",
   "execution_count": 8,
   "metadata": {
    "colab": {
     "base_uri": "https://localhost:8080/"
    },
    "id": "GaJYtAOF8eKq",
    "outputId": "8e80d442-f4ab-498a-f800-b63fdec72b04"
   },
   "outputs": [
    {
     "name": "stdout",
     "output_type": "stream",
     "text": [
      "Addition of tensors: tensor([[3, 4],\n",
      "        [5, 6]])\n"
     ]
    }
   ],
   "source": [
    "print(\"Addition of tensors:\", addition)"
   ]
  },
  {
   "cell_type": "code",
   "execution_count": 9,
   "metadata": {
    "id": "3o3-ZxH68klv"
   },
   "outputs": [],
   "source": [
    "multiply=x_data1*x_data2"
   ]
  },
  {
   "cell_type": "code",
   "execution_count": 10,
   "metadata": {
    "colab": {
     "base_uri": "https://localhost:8080/"
    },
    "id": "-js8PFTg8oGp",
    "outputId": "c3bd8ae2-fc6f-40a4-f3b8-7e22962dca46"
   },
   "outputs": [
    {
     "name": "stdout",
     "output_type": "stream",
     "text": [
      "Multiplication of Tensors:  tensor([[2, 4],\n",
      "        [6, 8]])\n"
     ]
    }
   ],
   "source": [
    "print(\"Multiplication of Tensors: \", multiply)"
   ]
  }
 ],
 "metadata": {
  "colab": {
   "provenance": []
  },
  "kernelspec": {
   "display_name": "Python 3 (ipykernel)",
   "language": "python",
   "name": "python3"
  },
  "language_info": {
   "codemirror_mode": {
    "name": "ipython",
    "version": 3
   },
   "file_extension": ".py",
   "mimetype": "text/x-python",
   "name": "python",
   "nbconvert_exporter": "python",
   "pygments_lexer": "ipython3",
   "version": "3.11.4"
  }
 },
 "nbformat": 4,
 "nbformat_minor": 4
}
